{
 "cells": [
  {
   "cell_type": "code",
   "execution_count": 1,
   "id": "cc8540ab",
   "metadata": {},
   "outputs": [],
   "source": [
    "%matplotlib inline\n",
    "import pandas as pd\n",
    "import numpy as np\n",
    "import matplotlib.pyplot as plt\n",
    "import seaborn as sns;sns.set()"
   ]
  },
  {
   "cell_type": "code",
   "execution_count": 2,
   "id": "e85de7ae",
   "metadata": {},
   "outputs": [],
   "source": [
    "### im taking dataset from kaggle which is text classification dataset,\n",
    "##in first i extracted data from bbc news but gets less accuracy with 150 documents due to less time period as professor\n",
    "    #suggetion this data was extraxted from kaggle\n"
   ]
  },
  {
   "cell_type": "code",
   "execution_count": 3,
   "id": "387d70ba",
   "metadata": {},
   "outputs": [],
   "source": [
    "mydata = pd.read_csv('newsdata.csv')\n"
   ]
  },
  {
   "cell_type": "code",
   "execution_count": 4,
   "id": "9aaa502b",
   "metadata": {},
   "outputs": [
    {
     "data": {
      "text/html": [
       "<div>\n",
       "<style scoped>\n",
       "    .dataframe tbody tr th:only-of-type {\n",
       "        vertical-align: middle;\n",
       "    }\n",
       "\n",
       "    .dataframe tbody tr th {\n",
       "        vertical-align: top;\n",
       "    }\n",
       "\n",
       "    .dataframe thead th {\n",
       "        text-align: right;\n",
       "    }\n",
       "</style>\n",
       "<table border=\"1\" class=\"dataframe\">\n",
       "  <thead>\n",
       "    <tr style=\"text-align: right;\">\n",
       "      <th></th>\n",
       "      <th>title</th>\n",
       "      <th>text</th>\n",
       "      <th>subject</th>\n",
       "      <th>date</th>\n",
       "    </tr>\n",
       "  </thead>\n",
       "  <tbody>\n",
       "    <tr>\n",
       "      <th>0</th>\n",
       "      <td>As U.S. budget fight looms, Republicans flip t...</td>\n",
       "      <td>WASHINGTON (Reuters) - The head of a conservat...</td>\n",
       "      <td>politicsNews</td>\n",
       "      <td>December 31, 2017</td>\n",
       "    </tr>\n",
       "    <tr>\n",
       "      <th>1</th>\n",
       "      <td>U.S. military to accept transgender recruits o...</td>\n",
       "      <td>WASHINGTON (Reuters) - Transgender people will...</td>\n",
       "      <td>politicsNews</td>\n",
       "      <td>December 29, 2017</td>\n",
       "    </tr>\n",
       "    <tr>\n",
       "      <th>2</th>\n",
       "      <td>Senior U.S. Republican senator: 'Let Mr. Muell...</td>\n",
       "      <td>WASHINGTON (Reuters) - The special counsel inv...</td>\n",
       "      <td>politicsNews</td>\n",
       "      <td>December 31, 2017</td>\n",
       "    </tr>\n",
       "    <tr>\n",
       "      <th>3</th>\n",
       "      <td>FBI Russia probe helped by Australian diplomat...</td>\n",
       "      <td>WASHINGTON (Reuters) - Trump campaign adviser ...</td>\n",
       "      <td>politicsNews</td>\n",
       "      <td>December 30, 2017</td>\n",
       "    </tr>\n",
       "    <tr>\n",
       "      <th>4</th>\n",
       "      <td>Trump wants Postal Service to charge 'much mor...</td>\n",
       "      <td>SEATTLE/WASHINGTON (Reuters) - President Donal...</td>\n",
       "      <td>politicsNews</td>\n",
       "      <td>December 29, 2017</td>\n",
       "    </tr>\n",
       "  </tbody>\n",
       "</table>\n",
       "</div>"
      ],
      "text/plain": [
       "                                               title  \\\n",
       "0  As U.S. budget fight looms, Republicans flip t...   \n",
       "1  U.S. military to accept transgender recruits o...   \n",
       "2  Senior U.S. Republican senator: 'Let Mr. Muell...   \n",
       "3  FBI Russia probe helped by Australian diplomat...   \n",
       "4  Trump wants Postal Service to charge 'much mor...   \n",
       "\n",
       "                                                text       subject  \\\n",
       "0  WASHINGTON (Reuters) - The head of a conservat...  politicsNews   \n",
       "1  WASHINGTON (Reuters) - Transgender people will...  politicsNews   \n",
       "2  WASHINGTON (Reuters) - The special counsel inv...  politicsNews   \n",
       "3  WASHINGTON (Reuters) - Trump campaign adviser ...  politicsNews   \n",
       "4  SEATTLE/WASHINGTON (Reuters) - President Donal...  politicsNews   \n",
       "\n",
       "                 date  \n",
       "0  December 31, 2017   \n",
       "1  December 29, 2017   \n",
       "2  December 31, 2017   \n",
       "3  December 30, 2017   \n",
       "4  December 29, 2017   "
      ]
     },
     "execution_count": 4,
     "metadata": {},
     "output_type": "execute_result"
    }
   ],
   "source": [
    "\n",
    "mydata.head()"
   ]
  },
  {
   "cell_type": "code",
   "execution_count": 5,
   "id": "6888e492",
   "metadata": {},
   "outputs": [
    {
     "name": "stdout",
     "output_type": "stream",
     "text": [
      "<class 'pandas.core.frame.DataFrame'>\n",
      "RangeIndex: 21417 entries, 0 to 21416\n",
      "Data columns (total 4 columns):\n",
      " #   Column   Non-Null Count  Dtype \n",
      "---  ------   --------------  ----- \n",
      " 0   title    21417 non-null  object\n",
      " 1   text     21417 non-null  object\n",
      " 2   subject  21417 non-null  object\n",
      " 3   date     21417 non-null  object\n",
      "dtypes: object(4)\n",
      "memory usage: 669.4+ KB\n"
     ]
    }
   ],
   "source": [
    "mydata.info()"
   ]
  },
  {
   "cell_type": "code",
   "execution_count": 6,
   "id": "a16211e7",
   "metadata": {},
   "outputs": [],
   "source": [
    "#data preprocessing\n",
    "from sklearn.feature_extraction.text import TfidfVectorizer\n",
    "from nltk.corpus import stopwords\n",
    "from sklearn.cluster import KMeans"
   ]
  },
  {
   "cell_type": "code",
   "execution_count": 7,
   "id": "14a311bf",
   "metadata": {},
   "outputs": [],
   "source": [
    "documents = mydata['text'].values.astype('U')"
   ]
  },
  {
   "cell_type": "code",
   "execution_count": 8,
   "id": "0c280d5b",
   "metadata": {},
   "outputs": [],
   "source": [
    "vectorizer = TfidfVectorizer(stop_words='english')\n",
    "features = vectorizer.fit_transform(documents)"
   ]
  },
  {
   "cell_type": "code",
   "execution_count": 9,
   "id": "bc4f4b20",
   "metadata": {},
   "outputs": [
    {
     "data": {
      "text/plain": [
       "KMeans(max_iter=100, n_clusters=17, n_init=1)"
      ]
     },
     "execution_count": 9,
     "metadata": {},
     "output_type": "execute_result"
    }
   ],
   "source": [
    "k = 17\n",
    "model = KMeans(n_clusters=k, init = 'k-means++', max_iter = 100, n_init = 1)\n",
    "model.fit(features)"
   ]
  },
  {
   "cell_type": "code",
   "execution_count": 10,
   "id": "10a0a899",
   "metadata": {},
   "outputs": [],
   "source": [
    "mydata['cluster'] = model.labels_"
   ]
  },
  {
   "cell_type": "code",
   "execution_count": 11,
   "id": "30f4024f",
   "metadata": {},
   "outputs": [
    {
     "data": {
      "text/html": [
       "<div>\n",
       "<style scoped>\n",
       "    .dataframe tbody tr th:only-of-type {\n",
       "        vertical-align: middle;\n",
       "    }\n",
       "\n",
       "    .dataframe tbody tr th {\n",
       "        vertical-align: top;\n",
       "    }\n",
       "\n",
       "    .dataframe thead th {\n",
       "        text-align: right;\n",
       "    }\n",
       "</style>\n",
       "<table border=\"1\" class=\"dataframe\">\n",
       "  <thead>\n",
       "    <tr style=\"text-align: right;\">\n",
       "      <th></th>\n",
       "      <th>title</th>\n",
       "      <th>text</th>\n",
       "      <th>subject</th>\n",
       "      <th>date</th>\n",
       "      <th>cluster</th>\n",
       "    </tr>\n",
       "  </thead>\n",
       "  <tbody>\n",
       "    <tr>\n",
       "      <th>0</th>\n",
       "      <td>As U.S. budget fight looms, Republicans flip t...</td>\n",
       "      <td>WASHINGTON (Reuters) - The head of a conservat...</td>\n",
       "      <td>politicsNews</td>\n",
       "      <td>December 31, 2017</td>\n",
       "      <td>1</td>\n",
       "    </tr>\n",
       "    <tr>\n",
       "      <th>1</th>\n",
       "      <td>U.S. military to accept transgender recruits o...</td>\n",
       "      <td>WASHINGTON (Reuters) - Transgender people will...</td>\n",
       "      <td>politicsNews</td>\n",
       "      <td>December 29, 2017</td>\n",
       "      <td>0</td>\n",
       "    </tr>\n",
       "    <tr>\n",
       "      <th>2</th>\n",
       "      <td>Senior U.S. Republican senator: 'Let Mr. Muell...</td>\n",
       "      <td>WASHINGTON (Reuters) - The special counsel inv...</td>\n",
       "      <td>politicsNews</td>\n",
       "      <td>December 31, 2017</td>\n",
       "      <td>13</td>\n",
       "    </tr>\n",
       "    <tr>\n",
       "      <th>3</th>\n",
       "      <td>FBI Russia probe helped by Australian diplomat...</td>\n",
       "      <td>WASHINGTON (Reuters) - Trump campaign adviser ...</td>\n",
       "      <td>politicsNews</td>\n",
       "      <td>December 30, 2017</td>\n",
       "      <td>13</td>\n",
       "    </tr>\n",
       "    <tr>\n",
       "      <th>4</th>\n",
       "      <td>Trump wants Postal Service to charge 'much mor...</td>\n",
       "      <td>SEATTLE/WASHINGTON (Reuters) - President Donal...</td>\n",
       "      <td>politicsNews</td>\n",
       "      <td>December 29, 2017</td>\n",
       "      <td>5</td>\n",
       "    </tr>\n",
       "  </tbody>\n",
       "</table>\n",
       "</div>"
      ],
      "text/plain": [
       "                                               title  \\\n",
       "0  As U.S. budget fight looms, Republicans flip t...   \n",
       "1  U.S. military to accept transgender recruits o...   \n",
       "2  Senior U.S. Republican senator: 'Let Mr. Muell...   \n",
       "3  FBI Russia probe helped by Australian diplomat...   \n",
       "4  Trump wants Postal Service to charge 'much mor...   \n",
       "\n",
       "                                                text       subject  \\\n",
       "0  WASHINGTON (Reuters) - The head of a conservat...  politicsNews   \n",
       "1  WASHINGTON (Reuters) - Transgender people will...  politicsNews   \n",
       "2  WASHINGTON (Reuters) - The special counsel inv...  politicsNews   \n",
       "3  WASHINGTON (Reuters) - Trump campaign adviser ...  politicsNews   \n",
       "4  SEATTLE/WASHINGTON (Reuters) - President Donal...  politicsNews   \n",
       "\n",
       "                 date  cluster  \n",
       "0  December 31, 2017         1  \n",
       "1  December 29, 2017         0  \n",
       "2  December 31, 2017        13  \n",
       "3  December 30, 2017        13  \n",
       "4  December 29, 2017         5  "
      ]
     },
     "execution_count": 11,
     "metadata": {},
     "output_type": "execute_result"
    }
   ],
   "source": [
    "mydata.head()"
   ]
  },
  {
   "cell_type": "code",
   "execution_count": 12,
   "id": "73e65257",
   "metadata": {},
   "outputs": [],
   "source": [
    "clusters = mydata.groupby('cluster')\n",
    "\n",
    "for cluster in clusters.groups:\n",
    "    f = open('cluster'+str(cluster)+'.csv','w', encoding=\"utf-8\") #create csv file\n",
    "    data = clusters.get_group(cluster)[['title','text','subject','date']] #get title, text, subject,date columns\n",
    "    f.write(data.to_csv(index_label= 'id')) #set index to id\n",
    "    f.close()"
   ]
  },
  {
   "cell_type": "code",
   "execution_count": 13,
   "id": "20a00e91",
   "metadata": {},
   "outputs": [
    {
     "name": "stdout",
     "output_type": "stream",
     "text": [
      "cluster centriods: \n",
      "\n",
      "cluster 0:\n",
      "ban\n",
      "order\n",
      "trump\n",
      "court\n",
      "travel\n",
      "refugees\n",
      "countries\n",
      "states\n",
      "said\n",
      "united\n",
      "------------\n",
      "cluster 1:\n",
      "house\n",
      "senate\n",
      "obamacare\n",
      "republican\n",
      "healthcare\n",
      "republicans\n",
      "said\n",
      "legislation\n",
      "trump\n",
      "insurance\n",
      "------------\n",
      "cluster 2:\n",
      "court\n",
      "supreme\n",
      "gorsuch\n",
      "senate\n",
      "obama\n",
      "garland\n",
      "judge\n",
      "justice\n",
      "appeals\n",
      "scalia\n",
      "------------\n",
      "cluster 3:\n",
      "iran\n",
      "nuclear\n",
      "deal\n",
      "tehran\n",
      "sanctions\n",
      "iranian\n",
      "said\n",
      "trump\n",
      "agreement\n",
      "missile\n",
      "------------\n",
      "cluster 4:\n",
      "russia\n",
      "russian\n",
      "moscow\n",
      "syrian\n",
      "syria\n",
      "putin\n",
      "said\n",
      "islamic\n",
      "assad\n",
      "state\n",
      "------------\n",
      "cluster 5:\n",
      "said\n",
      "police\n",
      "state\n",
      "people\n",
      "reuters\n",
      "year\n",
      "government\n",
      "president\n",
      "trump\n",
      "united\n",
      "------------\n",
      "cluster 6:\n",
      "eu\n",
      "brexit\n",
      "britain\n",
      "european\n",
      "ireland\n",
      "british\n",
      "union\n",
      "said\n",
      "brussels\n",
      "london\n",
      "------------\n",
      "cluster 7:\n",
      "kurdish\n",
      "independence\n",
      "iraqi\n",
      "spain\n",
      "catalan\n",
      "iraq\n",
      "referendum\n",
      "catalonia\n",
      "madrid\n",
      "baghdad\n",
      "------------\n",
      "cluster 8:\n",
      "saudi\n",
      "arabia\n",
      "hariri\n",
      "lebanon\n",
      "yemen\n",
      "riyadh\n",
      "iran\n",
      "al\n",
      "lebanese\n",
      "said\n",
      "------------\n",
      "cluster 9:\n",
      "party\n",
      "election\n",
      "opposition\n",
      "said\n",
      "mugabe\n",
      "government\n",
      "percent\n",
      "minister\n",
      "vote\n",
      "parliament\n",
      "------------\n",
      "cluster 10:\n",
      "merkel\n",
      "germany\n",
      "spd\n",
      "german\n",
      "coalition\n",
      "chancellor\n",
      "berlin\n",
      "greens\n",
      "fdp\n",
      "angela\n",
      "------------\n",
      "cluster 11:\n",
      "china\n",
      "beijing\n",
      "taiwan\n",
      "chinese\n",
      "xi\n",
      "trump\n",
      "trade\n",
      "said\n",
      "sea\n",
      "president\n",
      "------------\n",
      "cluster 12:\n",
      "tax\n",
      "reform\n",
      "house\n",
      "percent\n",
      "trump\n",
      "senate\n",
      "republicans\n",
      "rate\n",
      "republican\n",
      "taxes\n",
      "------------\n",
      "cluster 13:\n",
      "trump\n",
      "said\n",
      "president\n",
      "house\n",
      "white\n",
      "republican\n",
      "campaign\n",
      "donald\n",
      "washington\n",
      "intelligence\n",
      "------------\n",
      "cluster 14:\n",
      "clinton\n",
      "trump\n",
      "republican\n",
      "said\n",
      "presidential\n",
      "campaign\n",
      "sanders\n",
      "hillary\n",
      "democratic\n",
      "cruz\n",
      "------------\n",
      "cluster 15:\n",
      "korea\n",
      "north\n",
      "korean\n",
      "nuclear\n",
      "missile\n",
      "south\n",
      "pyongyang\n",
      "said\n",
      "china\n",
      "sanctions\n",
      "------------\n",
      "cluster 16:\n",
      "myanmar\n",
      "rohingya\n",
      "israel\n",
      "jerusalem\n",
      "bangladesh\n",
      "palestinian\n",
      "rakhine\n",
      "said\n",
      "israeli\n",
      "palestinians\n",
      "------------\n"
     ]
    }
   ],
   "source": [
    "print('cluster centriods: \\n')\n",
    "order_centriods = model.cluster_centers_.argsort()[:,::-1]\n",
    "terms = vectorizer.get_feature_names()\n",
    "\n",
    "for i in range(k):\n",
    "    print('cluster %d:' % i)\n",
    "    for j in order_centriods[i, :10]: #print out 10 feature terms of each cluster\n",
    "        print('%s' % terms[j])\n",
    "    print('------------')"
   ]
  },
  {
   "cell_type": "code",
   "execution_count": 17,
   "id": "035f6042",
   "metadata": {},
   "outputs": [
    {
     "name": "stdout",
     "output_type": "stream",
     "text": [
      "[5]\n"
     ]
    }
   ],
   "source": [
    "Y = vectorizer.transform([\"officer\"])\n",
    "prediction = model.predict(Y)\n",
    "print(prediction)"
   ]
  },
  {
   "cell_type": "code",
   "execution_count": 20,
   "id": "dd5ad5b1",
   "metadata": {},
   "outputs": [
    {
     "name": "stdout",
     "output_type": "stream",
     "text": [
      "[13]\n"
     ]
    }
   ],
   "source": [
    "Y = vectorizer.transform([\"trump\"])\n",
    "prediction = model.predict(Y)\n",
    "print(prediction)"
   ]
  },
  {
   "cell_type": "code",
   "execution_count": 21,
   "id": "11158fb0",
   "metadata": {},
   "outputs": [
    {
     "name": "stdout",
     "output_type": "stream",
     "text": [
      "type escape to exit the program\n",
      "enter a sentence\n",
      "trump\n",
      "[13]\n",
      "enter a sentence\n",
      "officer\n",
      "[5]\n",
      "enter a sentence\n",
      "trump won the election\n",
      "[13]\n",
      "enter a sentence\n",
      "fire accident near canada\n",
      "[5]\n",
      "enter a sentence\n",
      "fire officer\n",
      "[5]\n",
      "enter a sentence\n",
      "escape\n"
     ]
    }
   ],
   "source": [
    "i='true'\n",
    "print('type escape to exit the program')\n",
    "while (i !='escape'):\n",
    "    i=input('enter a sentence\\n')\n",
    "    if i !='escape':\n",
    "        print(model.predict(vectorizer.transform([i])))"
   ]
  },
  {
   "cell_type": "code",
   "execution_count": 24,
   "id": "c0eb73ee",
   "metadata": {},
   "outputs": [
    {
     "data": {
      "text/plain": [
       "array(['politicsNews', 'worldnews'], dtype=object)"
      ]
     },
     "execution_count": 24,
     "metadata": {},
     "output_type": "execute_result"
    }
   ],
   "source": [
    "mydata['subject'].unique()"
   ]
  },
  {
   "cell_type": "code",
   "execution_count": 25,
   "id": "3832a48e",
   "metadata": {},
   "outputs": [
    {
     "data": {
      "text/plain": [
       "<Figure size 576x432 with 0 Axes>"
      ]
     },
     "metadata": {},
     "output_type": "display_data"
    },
    {
     "data": {
      "image/png": "[encoded data removed]",
      "text/plain": [
       "<Figure size 432x288 with 1 Axes>"
      ]
     },
     "metadata": {},
     "output_type": "display_data"
    }
   ],
   "source": [
    "import matplotlib.pyplot as plt\n",
    "fig = plt.figure(figsize=(8,6))\n",
    "mydata.groupby('subject').count().plot.bar(ylim=0)\n",
    "plt.show()"
   ]
  },
  {
   "cell_type": "code",
   "execution_count": 26,
   "id": "5e7e0aa7",
   "metadata": {},
   "outputs": [],
   "source": [
    "from sklearn.model_selection import train_test_split\n",
    "from sklearn.feature_extraction.text import CountVectorizer\n",
    "from sklearn.feature_extraction.text import TfidfTransformer\n",
    "from sklearn.naive_bayes import MultinomialNB\n",
    "X_train, X_test, y_train, y_test = train_test_split(mydata['title'], mydata['subject'], random_state = 0)\n",
    "vect = CountVectorizer()\n",
    "X_train_Vec = vect.fit_transform(X_train)\n",
    "tfidf_transformer = TfidfTransformer()\n",
    "X_train_tfidf = tfidf_transformer.fit_transform(X_train_Vec)\n",
    "clf = MultinomialNB().fit(X_train_tfidf, y_train)"
   ]
  },
  {
   "cell_type": "code",
   "execution_count": 27,
   "id": "77b55d3d",
   "metadata": {},
   "outputs": [
    {
     "data": {
      "text/plain": [
       "array(['worldnews', 'worldnews', 'worldnews', ..., 'worldnews',\n",
       "       'politicsNews', 'worldnews'], dtype=object)"
      ]
     },
     "execution_count": 27,
     "metadata": {},
     "output_type": "execute_result"
    }
   ],
   "source": [
    "y_test.values"
   ]
  },
  {
   "cell_type": "code",
   "execution_count": 28,
   "id": "9e81de07",
   "metadata": {},
   "outputs": [
    {
     "data": {
      "image/png": "[encoded data removed]",
      "text/plain": [
       "<Figure size 360x360 with 2 Axes>"
      ]
     },
     "metadata": {},
     "output_type": "display_data"
    }
   ],
   "source": [
    "y_pred = clf.predict(vect.transform(X_test))\n",
    "from sklearn.metrics import confusion_matrix\n",
    "conf_mat = confusion_matrix(y_test, y_pred)\n",
    "fig, ax = plt.subplots(figsize=(5,5))\n",
    "sns.heatmap(conf_mat, annot=True, fmt='d')\n",
    "plt.ylabel('Actual')\n",
    "plt.xlabel('Predicted')\n",
    "plt.show()"
   ]
  },
  {
   "cell_type": "code",
   "execution_count": 29,
   "id": "df6431ae",
   "metadata": {},
   "outputs": [
    {
     "data": {
      "text/plain": [
       "0.9109243697478991"
      ]
     },
     "execution_count": 29,
     "metadata": {},
     "output_type": "execute_result"
    }
   ],
   "source": [
    "from sklearn.metrics import accuracy_score\n",
    "accuracy_score(y_test, y_pred)"
   ]
  },
  {
   "cell_type": "code",
   "execution_count": 30,
   "id": "80e24004",
   "metadata": {},
   "outputs": [
    {
     "name": "stdout",
     "output_type": "stream",
     "text": [
      "type escape to exit the program\n",
      "enter a sentence\n",
      "trump\n",
      "['politicsNews']\n",
      "enter a sentence\n",
      "india\n",
      "['worldnews']\n",
      "enter a sentence\n",
      "canada stuck at fire accident\n",
      "['worldnews']\n",
      "enter a sentence\n",
      "escape\n"
     ]
    }
   ],
   "source": [
    "i='true'\n",
    "print('type escape to exit the program')\n",
    "while (i !='escape'):\n",
    "    i=input('enter a sentence\\n')\n",
    "    if i !='escape':\n",
    "        print(clf.predict(vect.transform([i])))"
   ]
  },
  {
   "cell_type": "code",
   "execution_count": 31,
   "id": "1b65112c",
   "metadata": {},
   "outputs": [
    {
     "name": "stdout",
     "output_type": "stream",
     "text": [
      "['politicsNews']\n"
     ]
    }
   ],
   "source": [
    "print(clf.predict(vect.transform([\"trump\"])))"
   ]
  },
  {
   "cell_type": "code",
   "execution_count": null,
   "id": "4485ab03",
   "metadata": {},
   "outputs": [],
   "source": []
  }
 ],
 "metadata": {
  "kernelspec": {
   "display_name": "Python 3",
   "language": "python",
   "name": "python3"
  },
  "language_info": {
   "codemirror_mode": {
    "name": "ipython",
    "version": 3
   },
   "file_extension": ".py",
   "mimetype": "text/x-python",
   "name": "python",
   "nbconvert_exporter": "python",
   "pygments_lexer": "ipython3",
   "version": "3.8.8"
  }
 },
 "nbformat": 4,
 "nbformat_minor": 5
}
